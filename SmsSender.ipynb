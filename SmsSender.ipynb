{
 "cells": [
  {
   "cell_type": "markdown",
   "id": "06e015e5",
   "metadata": {},
   "source": [
    "- https://linuxhint.com/automatically_send_text_message_android_python"
   ]
  },
  {
   "cell_type": "code",
   "execution_count": 1,
   "id": "2d277558",
   "metadata": {},
   "outputs": [],
   "source": [
    "import time\n",
    "import datetime\n",
    "import pandas as pd\n",
    "from ipaddress import IPv4Address\n",
    "from pyairmore.request import AirmoreSession\n",
    "from pyairmore.services.messaging import MessagingService"
   ]
  },
  {
   "cell_type": "code",
   "execution_count": 2,
   "id": "6fd9f680",
   "metadata": {},
   "outputs": [
    {
     "data": {
      "text/plain": [
       "25"
      ]
     },
     "execution_count": 2,
     "metadata": {},
     "output_type": "execute_result"
    }
   ],
   "source": [
    "df = pd.read_excel(\"Fri-15-M60.xlsx\") # excel file\n",
    "phones = list(set(df.iloc[:, 4].to_list()))\n",
    "len(phones)"
   ]
  },
  {
   "cell_type": "code",
   "execution_count": 5,
   "id": "848eefb8",
   "metadata": {},
   "outputs": [],
   "source": [
    "textMessage = \"\"\"\n",
    "سلام بچه ها، امیدوارم حالتون خوب باشه\n",
    "ساعت سه کلاس حل تمرین میبینمتون✌🏻❤️\n",
    "اگه مشکلی بود بهم اطلاع بدید.\n",
    "\"\"\".strip()"
   ]
  },
  {
   "cell_type": "code",
   "execution_count": 6,
   "id": "cc18624f",
   "metadata": {},
   "outputs": [],
   "source": [
    "androidIP = IPv4Address(\"192.168.43.1\")\n",
    "androidSession = AirmoreSession(androidIP)\n",
    "smsService = MessagingService(androidSession)"
   ]
  },
  {
   "cell_type": "code",
   "execution_count": null,
   "id": "f20cd8ce",
   "metadata": {},
   "outputs": [],
   "source": [
    "for phone in phones:\n",
    "    mobileNumber = f\"+98{phone}\"\n",
    "    if len(mobileNumber) == 13 :\n",
    "        print(f\"sms send to {mobileNumber[:6]}****{mobileNumber[-3:]}\")\n",
    "        smsService.send_message(mobileNumber, textMessage)\n",
    "        time.sleep(1)\n",
    "    else:\n",
    "        print(f\"Check this number: {phone}\")\n",
    "else:\n",
    "    print(f\"finish at {datetime.datetime.now().strftime('%Y-%m-%d %H:%M:%S')}\")"
   ]
  },
  {
   "cell_type": "code",
   "execution_count": null,
   "id": "e6bda7ea",
   "metadata": {},
   "outputs": [],
   "source": []
  },
  {
   "cell_type": "code",
   "execution_count": null,
   "id": "3deb324d",
   "metadata": {},
   "outputs": [],
   "source": []
  }
 ],
 "metadata": {
  "kernelspec": {
   "display_name": "Python 3 (ipykernel)",
   "language": "python",
   "name": "python3"
  },
  "language_info": {
   "codemirror_mode": {
    "name": "ipython",
    "version": 3
   },
   "file_extension": ".py",
   "mimetype": "text/x-python",
   "name": "python",
   "nbconvert_exporter": "python",
   "pygments_lexer": "ipython3",
   "version": "3.11.3"
  }
 },
 "nbformat": 4,
 "nbformat_minor": 5
}
