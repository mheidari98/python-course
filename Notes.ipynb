{
 "cells": [
  {
   "cell_type": "markdown",
   "id": "70494642",
   "metadata": {},
   "source": [
    "<div class=\"alert alert-info\">\n",
    "\n",
    "# خلاقیت الگوریتمی و برنامه‌نویسی پایتون\n",
    "- https://zil.ink/sharif_python\n",
    "\n",
    "<div class=\"alert alert-success\">\n",
    "\n",
    "### Recorded Video\n",
    "- https://ocw.sharif.edu/course/id/522\n",
    "\n",
    "### Telegram Channel\n",
    "- https://t.me/sharif_python\n",
    "</div>\n",
    "    \n",
    "<div class=\"alert alert-warning\">\n",
    "\n",
    "### Bebras\n",
    "- http://practice.learn-python.ir/hw1\n",
    "- http://practice.learn-python.ir/hw2\n",
    "- http://practice.learn-python.ir/hw3\n",
    "\n",
    "### Quera (Juniora)\n",
    "- https://quera.org/r/tp1i7\n",
    "- https://quera.org/college/land/college/11644\n",
    "\n",
    "</div>\n",
    "\n",
    "\n",
    "### Recorded class video\n",
    "- https://b2n.ir/h25169\n",
    "\n",
    "</div>"
   ]
  },
  {
   "cell_type": "markdown",
   "id": "acbe0e29",
   "metadata": {},
   "source": [
    "<div class=\"alert alert-info\">\n",
    "    \n",
    "### Class\n",
    "- Tuesday\n",
    "    - https://mohit.online/event/ky6n1r/lobby\n",
    "- Friday\n",
    "    - https://mohit.online/event/o1xfyz/lobby\n",
    "</div>"
   ]
  },
  {
   "cell_type": "markdown",
   "id": "020369c6",
   "metadata": {},
   "source": [
    "<div class=\"alert alert-info\">\n",
    "\n",
    "- ### Mail: mahdih3idari@gmail.com\n",
    "- ### Phone: 09116410752\n",
    "- ### Telegram: @mheidari98\n",
    "- ### Discord: @mheidari98\n",
    "\n",
    "</div>"
   ]
  },
  {
   "cell_type": "code",
   "execution_count": null,
   "id": "ff07706b",
   "metadata": {},
   "outputs": [],
   "source": []
  },
  {
   "cell_type": "markdown",
   "id": "99040672",
   "metadata": {},
   "source": [
    "## Python IDE/Editor Installation\n",
    "### Online Coding\n",
    "- https://colab.research.google.com\n",
    "- https://www.onlinegdb.com/online_python_compiler\n",
    "- https://www.online-python.com\n",
    "- https://www.mycompiler.io\n",
    "\n",
    "### Mobile\n",
    "- Pydroid\n",
    "    - https://play.google.com/store/apps/details?id=ru.iiec.pydroid3\n",
    "\n",
    "- QuickEdit Text Editor\n",
    "    - https://play.google.com/store/apps/details?id=com.rhmsoft.edit\n",
    "\n",
    "- QPython\n",
    "    - https://github.com/qpython-android/qpython\n",
    "-  Sololearn: Learn to Code\n",
    "    - 💡GET IT ON Google play\n",
    "        - https://play.google.com/store/apps/details?id=com.sololearn&hl=en\n",
    "    - 💡Download on the App Store \n",
    "        - https://apps.apple.com/us/app/sololearn-learn-to-code/id1210079064\n",
    "    - 💡Learn on the Web\n",
    "        - https://www.sololearn.com/Courses"
   ]
  },
  {
   "cell_type": "code",
   "execution_count": null,
   "id": "99a29ee9",
   "metadata": {},
   "outputs": [],
   "source": []
  },
  {
   "cell_type": "code",
   "execution_count": null,
   "id": "f7f8650f",
   "metadata": {},
   "outputs": [],
   "source": []
  },
  {
   "cell_type": "markdown",
   "id": "c74f3e92",
   "metadata": {},
   "source": [
    "## print"
   ]
  },
  {
   "cell_type": "code",
   "execution_count": 1,
   "id": "84eb7252",
   "metadata": {},
   "outputs": [
    {
     "name": "stdout",
     "output_type": "stream",
     "text": [
      "salam donya\n"
     ]
    }
   ],
   "source": [
    "print(\"salam donya\")"
   ]
  },
  {
   "cell_type": "code",
   "execution_count": null,
   "id": "beeb414e",
   "metadata": {},
   "outputs": [],
   "source": []
  },
  {
   "cell_type": "markdown",
   "id": "01742a40",
   "metadata": {},
   "source": [
    "## comment"
   ]
  },
  {
   "cell_type": "code",
   "execution_count": 2,
   "id": "c4096cb0",
   "metadata": {},
   "outputs": [],
   "source": [
    "# this is comment"
   ]
  },
  {
   "cell_type": "code",
   "execution_count": null,
   "id": "e8d0dcaf",
   "metadata": {},
   "outputs": [],
   "source": []
  },
  {
   "cell_type": "markdown",
   "id": "173f5821",
   "metadata": {},
   "source": [
    "## Data-types and Variables in Python: Declaration and Use\n",
    "\n",
    "| &nbsp;  |      Data Type    |   Example   | \n",
    "|:--------|:-----------------:|:------------|\n",
    "|Number   | Integer           | x = 4       |\n",
    "| &nbsp;  | Floating point    | x = 3.142   | \n",
    "| &nbsp;  | Boolean           | x = True    |\n",
    "|Text     | Character         | x = 'c'     |\n",
    "| &nbsp;  | String            | x = \"this\" or x = 'this' |"
   ]
  },
  {
   "cell_type": "code",
   "execution_count": 3,
   "id": "89858294",
   "metadata": {},
   "outputs": [
    {
     "name": "stdout",
     "output_type": "stream",
     "text": [
      "4 <class 'int'>\n"
     ]
    }
   ],
   "source": [
    "x = 4              # integer\n",
    "print(x, type(x))"
   ]
  },
  {
   "cell_type": "code",
   "execution_count": 4,
   "id": "9f7bc113",
   "metadata": {},
   "outputs": [
    {
     "name": "stdout",
     "output_type": "stream",
     "text": [
      "3.7 <class 'float'>\n"
     ]
    }
   ],
   "source": [
    "z = 3.7            # floating point\n",
    "print(z, type(z))"
   ]
  },
  {
   "cell_type": "code",
   "execution_count": 5,
   "id": "4666b4f1",
   "metadata": {},
   "outputs": [
    {
     "name": "stdout",
     "output_type": "stream",
     "text": [
      "True <class 'bool'>\n"
     ]
    }
   ],
   "source": [
    "y = True           # boolean (True, False)\n",
    "print(y, type(y))"
   ]
  },
  {
   "cell_type": "code",
   "execution_count": 6,
   "id": "4e66d966",
   "metadata": {},
   "outputs": [
    {
     "name": "stdout",
     "output_type": "stream",
     "text": [
      "This is a string <class 'str'>\n"
     ]
    }
   ],
   "source": [
    "s1 = \"This is a string\"    # string\n",
    "print(s1, type(s1))"
   ]
  },
  {
   "cell_type": "code",
   "execution_count": 7,
   "id": "37384f56",
   "metadata": {},
   "outputs": [
    {
     "name": "stdout",
     "output_type": "stream",
     "text": [
      "This is also a string <class 'str'>\n"
     ]
    }
   ],
   "source": [
    "s2 = 'This is also a string'    # string\n",
    "print(s2, type(s2))"
   ]
  },
  {
   "cell_type": "code",
   "execution_count": 8,
   "id": "9a7ccced",
   "metadata": {},
   "outputs": [
    {
     "name": "stdout",
     "output_type": "stream",
     "text": [
      "this is\n",
      "multi line\n",
      "string <class 'str'>\n"
     ]
    }
   ],
   "source": [
    "s3 = \"\"\"this is\n",
    "multi line\n",
    "string\"\"\"\n",
    "\n",
    "print(s3, type(s3))"
   ]
  },
  {
   "cell_type": "code",
   "execution_count": null,
   "id": "da1b9e4c",
   "metadata": {},
   "outputs": [],
   "source": []
  },
  {
   "cell_type": "code",
   "execution_count": null,
   "id": "0b321094",
   "metadata": {},
   "outputs": [],
   "source": []
  },
  {
   "cell_type": "markdown",
   "id": "e68cc1b5",
   "metadata": {},
   "source": [
    "## Typecasting in Python"
   ]
  },
  {
   "cell_type": "markdown",
   "id": "7f13b18b",
   "metadata": {},
   "source": [
    "| converter  |   Example   | \n",
    "|:--------|:------------|\n",
    "|str(sth) -> str   | str(15) or str(4.3)  |\n",
    "|int(x, base=10) -> integer   | int(\"12\") or int(23.7)  |\n",
    "|float(x) -> float   | float(\"16\") or float(4)  |\n",
    "|bool(x) -> bool   | bool(15) or bool(0)  |"
   ]
  },
  {
   "cell_type": "code",
   "execution_count": 9,
   "id": "ee894c21",
   "metadata": {},
   "outputs": [
    {
     "ename": "TypeError",
     "evalue": "can only concatenate str (not \"int\") to str",
     "output_type": "error",
     "traceback": [
      "\u001b[1;31m---------------------------------------------------------------------------\u001b[0m",
      "\u001b[1;31mTypeError\u001b[0m                                 Traceback (most recent call last)",
      "Cell \u001b[1;32mIn[9], line 3\u001b[0m\n\u001b[0;32m      1\u001b[0m a \u001b[38;5;241m=\u001b[39m \u001b[38;5;124m\"\u001b[39m\u001b[38;5;124m15\u001b[39m\u001b[38;5;124m\"\u001b[39m\n\u001b[1;32m----> 3\u001b[0m \u001b[38;5;28mprint\u001b[39m( \u001b[43ma\u001b[49m\u001b[43m \u001b[49m\u001b[38;5;241;43m+\u001b[39;49m\u001b[43m \u001b[49m\u001b[38;5;241;43m5\u001b[39;49m )\n",
      "\u001b[1;31mTypeError\u001b[0m: can only concatenate str (not \"int\") to str"
     ]
    }
   ],
   "source": [
    "a = \"15\"\n",
    "\n",
    "print( a + 5 )"
   ]
  },
  {
   "cell_type": "code",
   "execution_count": 10,
   "id": "094a8f6d",
   "metadata": {},
   "outputs": [
    {
     "name": "stdout",
     "output_type": "stream",
     "text": [
      "20\n"
     ]
    }
   ],
   "source": [
    "b = int(a)\n",
    "\n",
    "print( b + 5 )"
   ]
  },
  {
   "cell_type": "code",
   "execution_count": null,
   "id": "b05137ae",
   "metadata": {},
   "outputs": [],
   "source": []
  },
  {
   "cell_type": "code",
   "execution_count": null,
   "id": "492fa18e",
   "metadata": {},
   "outputs": [],
   "source": []
  },
  {
   "cell_type": "markdown",
   "id": "ac94a418",
   "metadata": {},
   "source": [
    "## Operators in Python: Assignment, Logical, Arithmetic "
   ]
  },
  {
   "cell_type": "code",
   "execution_count": 11,
   "id": "f900520a",
   "metadata": {},
   "outputs": [
    {
     "name": "stdout",
     "output_type": "stream",
     "text": [
      "11 16 7 33 5.5\n"
     ]
    }
   ],
   "source": [
    "x = 11\n",
    "\n",
    "y1 = x + 5       # addition \n",
    "y2 = x - 4       # subtraction\n",
    "y3 = x * 3       # multiplication\n",
    "y4 = x / 2       # division\n",
    "\n",
    "print(x, y1, y2, y3, y4)"
   ]
  },
  {
   "cell_type": "code",
   "execution_count": 12,
   "id": "2e6e9c83",
   "metadata": {},
   "outputs": [
    {
     "name": "stdout",
     "output_type": "stream",
     "text": [
      "11 5 1\n"
     ]
    }
   ],
   "source": [
    "y5 = x // 2      # integer division\n",
    "y6 = x % 2       # modulo (remainder) operator\n",
    "\n",
    "print(x, y5, y6)"
   ]
  },
  {
   "cell_type": "code",
   "execution_count": 13,
   "id": "9d199682",
   "metadata": {},
   "outputs": [
    {
     "name": "stdout",
     "output_type": "stream",
     "text": [
      "4 16 16 2.0\n"
     ]
    }
   ],
   "source": [
    "z = 4\n",
    "z1 = z ** 2       # square of z \n",
    "z2 = pow(z, 2)    # equivalent to square of z\n",
    "z3 = z ** 0.5     # square root\n",
    "\n",
    "print(z, z1, z2, z3)"
   ]
  },
  {
   "cell_type": "code",
   "execution_count": null,
   "id": "136c0157",
   "metadata": {},
   "outputs": [],
   "source": []
  },
  {
   "cell_type": "code",
   "execution_count": 14,
   "id": "b61196c8",
   "metadata": {},
   "outputs": [
    {
     "name": "stdout",
     "output_type": "stream",
     "text": [
      "14\n"
     ]
    }
   ],
   "source": [
    "a = 11\n",
    "a = a + 3\n",
    "print(a)"
   ]
  },
  {
   "cell_type": "code",
   "execution_count": 15,
   "id": "4672c28c",
   "metadata": {},
   "outputs": [
    {
     "name": "stdout",
     "output_type": "stream",
     "text": [
      "14\n"
     ]
    }
   ],
   "source": [
    "a = 11\n",
    "a += 3\n",
    "print(a)"
   ]
  },
  {
   "cell_type": "code",
   "execution_count": null,
   "id": "58e6e28b",
   "metadata": {},
   "outputs": [],
   "source": []
  },
  {
   "cell_type": "code",
   "execution_count": 16,
   "id": "5737165b",
   "metadata": {},
   "outputs": [
    {
     "name": "stdout",
     "output_type": "stream",
     "text": [
      "7.5 8 7\n"
     ]
    }
   ],
   "source": [
    "m = 7.5\n",
    "\n",
    "m1 = round(m)    # rounding z to its nearest integer \n",
    "m2 = int(m)      # type casting float to int\n",
    "\n",
    "print(m, m1, m2)"
   ]
  },
  {
   "cell_type": "code",
   "execution_count": null,
   "id": "9c843136",
   "metadata": {},
   "outputs": [],
   "source": []
  },
  {
   "cell_type": "code",
   "execution_count": 17,
   "id": "bc4444de",
   "metadata": {},
   "outputs": [
    {
     "name": "stdout",
     "output_type": "stream",
     "text": [
      "1 2 3\n"
     ]
    }
   ],
   "source": [
    "a = 1\n",
    "b = 2\n",
    "c = 3\n",
    "print(a, b, c)"
   ]
  },
  {
   "cell_type": "code",
   "execution_count": 18,
   "id": "64950c29",
   "metadata": {},
   "outputs": [
    {
     "name": "stdout",
     "output_type": "stream",
     "text": [
      "1 2 3\n"
     ]
    }
   ],
   "source": [
    "x, y, z = 1, 2, 3\n",
    "print(x, y, z)"
   ]
  },
  {
   "cell_type": "code",
   "execution_count": null,
   "id": "683877ee",
   "metadata": {},
   "outputs": [],
   "source": []
  },
  {
   "cell_type": "markdown",
   "id": "36a3d5a7",
   "metadata": {},
   "source": [
    "### Swap Two Variables"
   ]
  },
  {
   "cell_type": "markdown",
   "id": "38cd201f",
   "metadata": {},
   "source": [
    "#### method 1"
   ]
  },
  {
   "cell_type": "code",
   "execution_count": 19,
   "id": "89b11602",
   "metadata": {},
   "outputs": [
    {
     "name": "stdout",
     "output_type": "stream",
     "text": [
      "10 25\n",
      "25 10\n"
     ]
    }
   ],
   "source": [
    "a = 10\n",
    "b = 25\n",
    "print(a , b)\n",
    "\n",
    "temp = a\n",
    "a = b\n",
    "b = temp\n",
    "print(a , b)"
   ]
  },
  {
   "cell_type": "markdown",
   "id": "e091e59d",
   "metadata": {},
   "source": [
    "#### method 2"
   ]
  },
  {
   "cell_type": "code",
   "execution_count": 20,
   "id": "9b12c7b3",
   "metadata": {},
   "outputs": [
    {
     "name": "stdout",
     "output_type": "stream",
     "text": [
      "10 25\n",
      "25 10\n"
     ]
    }
   ],
   "source": [
    "a = 10\n",
    "b = 25\n",
    "print(a , b)\n",
    "\n",
    "a = a + b\n",
    "b = a - b\n",
    "a = a - b\n",
    "print(a , b)"
   ]
  },
  {
   "cell_type": "markdown",
   "id": "4c9f61e6",
   "metadata": {},
   "source": [
    "#### method 3"
   ]
  },
  {
   "cell_type": "code",
   "execution_count": 21,
   "id": "d3cd2adc",
   "metadata": {},
   "outputs": [
    {
     "name": "stdout",
     "output_type": "stream",
     "text": [
      "10 25\n",
      "25 10\n"
     ]
    }
   ],
   "source": [
    "a, b = 10, 25\n",
    "print(a , b)\n",
    "\n",
    "a, b = b, a\n",
    "print(a , b)"
   ]
  },
  {
   "cell_type": "code",
   "execution_count": null,
   "id": "4bffe42a",
   "metadata": {},
   "outputs": [],
   "source": []
  },
  {
   "cell_type": "code",
   "execution_count": 22,
   "id": "c9d5e1fe",
   "metadata": {},
   "outputs": [
    {
     "name": "stdout",
     "output_type": "stream",
     "text": [
      "False\n",
      "True\n",
      "True\n"
     ]
    }
   ],
   "source": [
    "y1 = True\n",
    "y2 = False\n",
    "\n",
    "print(y1 and y2)       # logical AND\n",
    "print(y1 or y2)        # logical OR\n",
    "print(y1 and not y2)   # logical NOT"
   ]
  },
  {
   "cell_type": "code",
   "execution_count": null,
   "id": "4fdb856a",
   "metadata": {},
   "outputs": [],
   "source": []
  },
  {
   "cell_type": "markdown",
   "id": "0919d83c",
   "metadata": {},
   "source": [
    "## Taking User Input"
   ]
  },
  {
   "cell_type": "code",
   "execution_count": 23,
   "id": "3c7d8271",
   "metadata": {},
   "outputs": [
    {
     "name": "stdout",
     "output_type": "stream",
     "text": [
      "mahdi\n",
      "vorodi shoma: mahdi\n",
      "type vorodi shoma: <class 'str'>\n"
     ]
    }
   ],
   "source": [
    "a = input()\n",
    "\n",
    "print(\"vorodi shoma:\", a)\n",
    "print(\"type vorodi shoma:\", type(a))"
   ]
  },
  {
   "cell_type": "code",
   "execution_count": 24,
   "id": "b5fadaba",
   "metadata": {},
   "outputs": [
    {
     "name": "stdout",
     "output_type": "stream",
     "text": [
      "Lotfan sen khod ra vared konid: 24\n",
      "sen shoma 2 sal digar: 26\n"
     ]
    }
   ],
   "source": [
    "sen = int(input(\"Lotfan sen khod ra vared konid: \"))\n",
    "\n",
    "print(\"sen shoma 2 sal digar:\", sen + 2)"
   ]
  },
  {
   "cell_type": "code",
   "execution_count": 25,
   "id": "a99beab0",
   "metadata": {},
   "outputs": [
    {
     "name": "stdout",
     "output_type": "stream",
     "text": [
      "adad: 1 2 3 4\n",
      "[1, 2, 3, 4] <class 'list'>\n"
     ]
    }
   ],
   "source": [
    "arr = [*map(int, input(\"adad: \").split() )]\n",
    "\n",
    "print(arr, type(arr))"
   ]
  },
  {
   "cell_type": "code",
   "execution_count": null,
   "id": "2444b40b",
   "metadata": {},
   "outputs": [],
   "source": []
  },
  {
   "cell_type": "code",
   "execution_count": null,
   "id": "f80ccb5c",
   "metadata": {},
   "outputs": [],
   "source": []
  },
  {
   "cell_type": "code",
   "execution_count": null,
   "id": "6af3ae59",
   "metadata": {},
   "outputs": [],
   "source": []
  },
  {
   "cell_type": "markdown",
   "id": "2100c9b9",
   "metadata": {},
   "source": [
    "## Conditional Statements: If else and Nested, If else and elif "
   ]
  },
  {
   "cell_type": "code",
   "execution_count": 26,
   "id": "e3edd8b2",
   "metadata": {},
   "outputs": [
    {
     "name": "stdout",
     "output_type": "stream",
     "text": [
      "x = 10 is even\n",
      "x = 10 is positive\n"
     ]
    }
   ],
   "source": [
    "# using if-else statement\n",
    "\n",
    "x = 10\n",
    "\n",
    "if x % 2 == 0:\n",
    "    print(\"x =\", x, \"is even\")\n",
    "else:\n",
    "    print(\"x =\", x, \"is odd\")\n",
    "\n",
    "if x > 0:\n",
    "    print(\"x =\", x, \"is positive\")\n",
    "elif x < 0:  # else if\n",
    "    print(\"x =\", x, \"is negative\")\n",
    "else:\n",
    "    print(\"x =\", x, \"is neither positive nor negative\")"
   ]
  },
  {
   "cell_type": "code",
   "execution_count": null,
   "id": "92731cb7",
   "metadata": {},
   "outputs": [],
   "source": []
  },
  {
   "cell_type": "code",
   "execution_count": null,
   "id": "d0de0083",
   "metadata": {},
   "outputs": [],
   "source": []
  },
  {
   "cell_type": "code",
   "execution_count": 27,
   "id": "8392ee93",
   "metadata": {},
   "outputs": [
    {
     "name": "stdout",
     "output_type": "stream",
     "text": [
      "sen: 18\n",
      "noJavan\n"
     ]
    }
   ],
   "source": [
    "sen = int(input(\"sen: \"))\n",
    "\n",
    "if sen <= 12 :\n",
    "    print(\"kodak\")\n",
    "elif 12 < sen <= 18 :\n",
    "    print(\"noJavan\")\n",
    "elif 18 < sen <= 40 :\n",
    "    print(\"Javan\")\n",
    "else:\n",
    "    print(\"mian sal\")"
   ]
  },
  {
   "cell_type": "code",
   "execution_count": null,
   "id": "3b0a2f05",
   "metadata": {},
   "outputs": [],
   "source": []
  },
  {
   "cell_type": "code",
   "execution_count": null,
   "id": "bc5dd2bf",
   "metadata": {},
   "outputs": [],
   "source": []
  },
  {
   "cell_type": "code",
   "execution_count": null,
   "id": "b46b15e3",
   "metadata": {},
   "outputs": [],
   "source": []
  },
  {
   "cell_type": "markdown",
   "id": "9187fa99",
   "metadata": {},
   "source": [
    "## Python Collections: List, Tuple, Sets and Dictionary"
   ]
  },
  {
   "cell_type": "code",
   "execution_count": null,
   "id": "2f416f32",
   "metadata": {},
   "outputs": [],
   "source": [
    "#[0]*n"
   ]
  },
  {
   "cell_type": "code",
   "execution_count": null,
   "id": "683767f8",
   "metadata": {},
   "outputs": [],
   "source": []
  },
  {
   "cell_type": "code",
   "execution_count": null,
   "id": "d506567b",
   "metadata": {},
   "outputs": [],
   "source": []
  },
  {
   "cell_type": "markdown",
   "id": "1db5b134",
   "metadata": {},
   "source": [
    "## String Manipulation: Basic Operations, Slicing, Functions and Methods"
   ]
  },
  {
   "cell_type": "code",
   "execution_count": null,
   "id": "a6a72c2b",
   "metadata": {},
   "outputs": [],
   "source": [
    "s1 = \"This\"\n",
    "\n",
    "print(s1[1:])                    # print last three characters \n",
    "print(len(s1))                               # get the string length\n",
    "print(\"Length of string is \" + str(len(s1))) # type casting int to str\n",
    "print(s1.upper())                            # convert to upper case\n",
    "print(s1.lower())                            # convert to lower case\n",
    "\n",
    "s2 = \"This is a string\"\n",
    "words = s2.split(' ')             # split the string into words\n",
    "print(words[0])\n",
    "print(s2.replace('a','another'))  # replace \"a\" with \"another\"\n",
    "print(s2.replace('is','at'))      # replace \"is\" with \"at\"\n",
    "print(s2.find(\"a\"))               # find the position of \"a\" in s2\n",
    "print(s1 in s2)                   # check if s1 is a substring of s2\n",
    "\n",
    "print(s1 == 'This')               # equality comparison\n",
    "print(s1 < 'That')                # inequality comparison\n",
    "print(s2 + \" too\")                # string concatenation\n",
    "print((s1 + \" \")* 3)              # replicate the string 3 times"
   ]
  },
  {
   "cell_type": "code",
   "execution_count": null,
   "id": "412d2aa7",
   "metadata": {},
   "outputs": [],
   "source": []
  },
  {
   "cell_type": "markdown",
   "id": "44e2232c",
   "metadata": {},
   "source": [
    "## Loops in Python: For Loop, While Loop and Nested Loops "
   ]
  },
  {
   "cell_type": "code",
   "execution_count": null,
   "id": "b80fb879",
   "metadata": {},
   "outputs": [],
   "source": []
  },
  {
   "cell_type": "code",
   "execution_count": null,
   "id": "fbeb4106",
   "metadata": {},
   "outputs": [],
   "source": []
  },
  {
   "cell_type": "markdown",
   "id": "40e97397",
   "metadata": {},
   "source": [
    "## Break & Continue Statement "
   ]
  },
  {
   "cell_type": "code",
   "execution_count": null,
   "id": "17c3da4b",
   "metadata": {},
   "outputs": [],
   "source": []
  },
  {
   "cell_type": "code",
   "execution_count": null,
   "id": "c4310ae7",
   "metadata": {},
   "outputs": [],
   "source": []
  },
  {
   "cell_type": "markdown",
   "id": "19fc3798",
   "metadata": {},
   "source": [
    "## User Defined Functions, Types of Functions "
   ]
  },
  {
   "cell_type": "code",
   "execution_count": null,
   "id": "11637365",
   "metadata": {},
   "outputs": [],
   "source": []
  },
  {
   "cell_type": "code",
   "execution_count": null,
   "id": "60bff5c7",
   "metadata": {},
   "outputs": [],
   "source": []
  },
  {
   "cell_type": "code",
   "execution_count": null,
   "id": "1b7e689d",
   "metadata": {},
   "outputs": [],
   "source": []
  },
  {
   "cell_type": "markdown",
   "id": "4398357c",
   "metadata": {},
   "source": [
    "## Lambda Function"
   ]
  },
  {
   "cell_type": "code",
   "execution_count": null,
   "id": "c774546a",
   "metadata": {},
   "outputs": [],
   "source": []
  },
  {
   "cell_type": "code",
   "execution_count": null,
   "id": "4d7e05a1",
   "metadata": {},
   "outputs": [],
   "source": []
  },
  {
   "cell_type": "code",
   "execution_count": null,
   "id": "e789806f",
   "metadata": {},
   "outputs": [],
   "source": []
  },
  {
   "cell_type": "markdown",
   "id": "b992b82d",
   "metadata": {},
   "source": [
    "## Importing Modules: Maths Module "
   ]
  },
  {
   "cell_type": "code",
   "execution_count": null,
   "id": "12fc4800",
   "metadata": {},
   "outputs": [],
   "source": [
    "import math\n",
    "\n",
    "x = 4\n",
    "print(math.sqrt(x))      # sqrt(4) = 2\n",
    "print(math.pow(x,2))     # 4**2 = 16\n",
    "print(math.exp(x))       # exp(4) = 54.6\n",
    "print(math.log(x,2))     # log based 2  (default is natural logarithm)\n",
    "print(math.fabs(-4))     # absolute value\n",
    "print(math.factorial(x)) # 4! = 4 x 3 x 2 x 1 = 24\n",
    "\n",
    "z = 0.2\n",
    "print(math.ceil(z))      # ceiling function\n",
    "print(math.floor(z))     # floor function\n",
    "print(math.trunc(z))     # truncate function\n",
    "\n",
    "z = 3*math.pi            # math.pi = 3.141592653589793 \n",
    "print(math.sin(z))       # sine function\n",
    "print(math.tanh(z))      # arctan function\n",
    "\n",
    "x = math.nan             # not a number\n",
    "print(math.isnan(x))\n",
    "\n",
    "x = math.inf             # infinity\n",
    "print(math.isinf(x))"
   ]
  },
  {
   "cell_type": "code",
   "execution_count": null,
   "id": "17f09977",
   "metadata": {},
   "outputs": [],
   "source": []
  },
  {
   "cell_type": "markdown",
   "id": "8317246b",
   "metadata": {},
   "source": [
    "## File Operation "
   ]
  },
  {
   "cell_type": "code",
   "execution_count": null,
   "id": "51122d44",
   "metadata": {},
   "outputs": [],
   "source": [
    "states = [('MI', 'Michigan', 'Lansing'),('CA', 'California', 'Sacramento'),\n",
    "          ('TX', 'Texas', 'Austin'), ('MN', 'Minnesota', 'St Paul')]\n",
    "\n",
    "with open('states.txt', 'w') as f:\n",
    "    f.write('\\n'.join('%s,%s,%s' % state for state in states))\n",
    "    \n",
    "with open('states.txt', 'r') as f:\n",
    "    for line in f:\n",
    "        fields = line.split(sep=',')    # split each line into its respective fields\n",
    "        print('State=',fields[1],'(',fields[0],')','Capital:', fields[2])"
   ]
  },
  {
   "cell_type": "code",
   "execution_count": null,
   "id": "8d764d4e",
   "metadata": {},
   "outputs": [],
   "source": []
  },
  {
   "cell_type": "code",
   "execution_count": null,
   "id": "3875a152",
   "metadata": {},
   "outputs": [],
   "source": []
  },
  {
   "cell_type": "markdown",
   "id": "953326d7",
   "metadata": {},
   "source": [
    "## Exception"
   ]
  },
  {
   "cell_type": "code",
   "execution_count": null,
   "id": "9fd447e6",
   "metadata": {},
   "outputs": [],
   "source": []
  },
  {
   "cell_type": "code",
   "execution_count": null,
   "id": "d18fc1bc",
   "metadata": {},
   "outputs": [],
   "source": []
  },
  {
   "cell_type": "markdown",
   "id": "6f8ee099",
   "metadata": {},
   "source": [
    "## Object Oriented Programming in Python"
   ]
  },
  {
   "cell_type": "code",
   "execution_count": null,
   "id": "f15c2a3f",
   "metadata": {},
   "outputs": [],
   "source": []
  },
  {
   "cell_type": "code",
   "execution_count": null,
   "id": "a77f2514",
   "metadata": {},
   "outputs": [],
   "source": []
  },
  {
   "cell_type": "code",
   "execution_count": null,
   "id": "a9444bac",
   "metadata": {},
   "outputs": [],
   "source": []
  },
  {
   "cell_type": "markdown",
   "id": "39218db1",
   "metadata": {},
   "source": [
    "## Fun project\n",
    "- Telegram or discord bot\n",
    "- Game\n",
    "- Automate with Python"
   ]
  },
  {
   "cell_type": "code",
   "execution_count": null,
   "id": "d7c3d26f",
   "metadata": {},
   "outputs": [],
   "source": []
  },
  {
   "cell_type": "code",
   "execution_count": null,
   "id": "edd214c1",
   "metadata": {},
   "outputs": [],
   "source": []
  },
  {
   "cell_type": "code",
   "execution_count": null,
   "id": "469fb835",
   "metadata": {},
   "outputs": [],
   "source": []
  },
  {
   "cell_type": "code",
   "execution_count": null,
   "id": "9aa48ee1",
   "metadata": {},
   "outputs": [],
   "source": []
  },
  {
   "cell_type": "code",
   "execution_count": null,
   "id": "90543733",
   "metadata": {},
   "outputs": [],
   "source": []
  },
  {
   "cell_type": "code",
   "execution_count": null,
   "id": "5ed22aef",
   "metadata": {},
   "outputs": [],
   "source": []
  },
  {
   "cell_type": "markdown",
   "id": "11bc7643",
   "metadata": {},
   "source": [
    "## learn python\n",
    "- https://github.com/gto76/python-cheatsheet\n",
    "- https://github.com/Asabeneh/30-Days-Of-Python\n",
    "- https://github.com/trekhleb/learn-python\n",
    "- https://github.com/wilfredinni/python-cheatsheet\n",
    "\n",
    "\n",
    "##  A collection of design patterns/idioms in Python \n",
    "- https://github.com/faif/python-patterns\n",
    "\n",
    "##  An open collection of Python anti-patterns and worst practices. \n",
    "- https://github.com/quantifiedcode/python-anti-patterns\n",
    "\n",
    "## 🛁 Clean Code concepts adapted for Python \n",
    "- https://github.com/zedr/clean-code-python\n",
    "\n",
    "##  All Algorithms implemented in Python \n",
    "- https://github.com/TheAlgorithms/Python\n",
    "- https://github.com/keon/algorithms\n",
    "\n",
    "## interesting\n",
    "- https://github.com/satwikkansal/wtfpython\n",
    "- https://github.com/cosmologicon/pywat\n",
    "- https://github.com/dabeaz-course/practical-python\n",
    "- https://github.com/brennerm/PyTricks\n",
    "- https://github.com/asharifiz/Computer_Science_and_Python_for_Highschool_Students\n",
    "- https://github.com/ine-rmotr-curriculum/FreeCodeCamp-Pandas-Real-Life-Example\n",
    "- https://github.com/DjangoEx/awesome-python-resources\n",
    "- https://pyneng.readthedocs.io/en/latest/\n",
    "- https://inferentialthinking.com/chapters/04/1/Numbers.html\n",
    "\n",
    "## visualising data structures and algorithms through animation\n",
    "- https://visualgo.net"
   ]
  },
  {
   "cell_type": "code",
   "execution_count": null,
   "id": "06f8a77d",
   "metadata": {},
   "outputs": [],
   "source": []
  }
 ],
 "metadata": {
  "kernelspec": {
   "display_name": "Python 3 (ipykernel)",
   "language": "python",
   "name": "python3"
  },
  "language_info": {
   "codemirror_mode": {
    "name": "ipython",
    "version": 3
   },
   "file_extension": ".py",
   "mimetype": "text/x-python",
   "name": "python",
   "nbconvert_exporter": "python",
   "pygments_lexer": "ipython3",
   "version": "3.11.3"
  }
 },
 "nbformat": 4,
 "nbformat_minor": 5
}
